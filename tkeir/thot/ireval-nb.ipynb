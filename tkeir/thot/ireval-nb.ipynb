{
 "cells": [
  {
   "cell_type": "code",
   "execution_count": 1,
   "id": "15d74848-40ef-44be-b564-d3a3fa2cf909",
   "metadata": {},
   "outputs": [],
   "source": [
    "\"\"\"Convert source document to tkeir indexer document\n",
    "Author : Eric Blaudez (Eric Blaudez)\n",
    "\n",
    "Copyright (c) 2022 THALES \n",
    "All Rights Reserved.\n",
    "\"\"\"\n",
    "import os\n",
    "import sys\n",
    "import traceback\n",
    "import pandas as pd\n",
    "import json\n",
    "import numpy as np\n",
    "\n",
    "\n",
    "dir_path = os.path.abspath('')\n",
    "\n",
    "sys.path.insert(0, os.path.abspath(os.path.join(dir_path, \"../../\")))\n",
    "sys.path.insert(0, os.path.abspath(os.path.join(dir_path, \"../\")))\n",
    "sys.path.insert(0, os.path.abspath(os.path.join(dir_path, \"./\")))\n",
    "\n",
    "from thot.tasks.evaluation.IREval import IREval"
   ]
  },
  {
   "cell_type": "markdown",
   "id": "08deb813-5702-46bc-9a5b-36184ca753ca",
   "metadata": {},
   "source": [
    "# Initialize Axeleria Information Retrieval Evaluation module"
   ]
  },
  {
   "cell_type": "code",
   "execution_count": 2,
   "id": "604a80de-83cc-4f23-b5fa-7f4c28c237cb",
   "metadata": {},
   "outputs": [],
   "source": [
    "ireval=IREval()"
   ]
  },
  {
   "cell_type": "code",
   "execution_count": 3,
   "id": "e635282e-4607-4d45-82ce-da1cf97e4413",
   "metadata": {},
   "outputs": [],
   "source": [
    "eval_file=\"/home/tkeir_svc/tkeir/configs/axeleria/test/evalrequest-human-writing-run1.json\" \n",
    "eval_name=\"dryrun\"\n",
    "output_dir=\"/tmp\""
   ]
  },
  {
   "cell_type": "markdown",
   "id": "d18c9315-6b03-4ce6-99be-8986c7361472",
   "metadata": {},
   "source": [
    "# Evaluation"
   ]
  },
  {
   "cell_type": "markdown",
   "id": "712c6a93-c5c9-4b36-b275-fc82d955e4c8",
   "metadata": {},
   "source": [
    "## Display queries"
   ]
  },
  {
   "cell_type": "code",
   "execution_count": 4,
   "id": "f3c2a164-0da7-4b9a-a940-17f55fa56d8b",
   "metadata": {},
   "outputs": [
    {
     "name": "stdout",
     "output_type": "stream",
     "text": [
      "{\n",
      "  \"run-name\": \"Query system with the queries written by a human\",\n",
      "  \"system-configuration\": \"/home/tkeir_svc/tkeir/configs/test/configs/searching.json\",\n",
      "  \"queries\": [\n",
      "    {\n",
      "      \"description\": \"From Alain - general summary. Answering : Patent cn102924940\",\n",
      "      \"query\": \"The invention relates to a thermoplastic composition, comprising:\\n(1) an acrylonitrile-butadiene-styrene (ABS) polymer;\\n(2) natural fibers;\\n(3) a compatibilizing polymer; and\\n(4) processing aids comprising a lubricant and titanium dioxide; wherein the amount of titanium dioxide is 1 - 10 weight%.\\nA molded article prepared from the thermoplastic composition is also claimed. Use of the thermoplastic composition in extrusion, injection, compression molding, and 3D printing, is also concerned.\\n\",\n",
      "      \"target-document\": \"file://33f4c3d5-0a4e-4a65-874a-885736c2b114.csv:questel:8103268-line:0000001084\",\n",
      "      \"qid\": 1,\n",
      "      \"docid\": \"1\",\n",
      "      \"relevance\": 1\n",
      "    },\n",
      "    {\n",
      "      \"description\": \"From Alain - general summary. Answering : Patent cn104194125\",\n",
      "      \"query\": \"The invention relates to a thermoplastic composition, comprising:\\n(1) an acrylonitrile-butadiene-styrene (ABS) polymer;\\n(2) natural fibers;\\n(3) a compatibilizing polymer; and\\n(4) processing aids comprising a lubricant and titanium dioxide; wherein the amount of titanium dioxide is 1 - 10 weight%.\\nA molded article prepared from the thermoplastic composition is also claimed. Use of the thermoplastic composition in extrusion, injection, compression molding, and 3D printing, is also concerned.\\n\",\n",
      "      \"target-document\": \"file://33f4c3d5-0a4e-4a65-874a-885736c2b114.csv:questel:68078856-line:0000001598\",\n",
      "      \"qid\": 1,\n",
      "      \"docid\": \"2\",\n",
      "      \"relevance\": 1\n",
      "    },\n",
      "    {\n",
      "      \"description\": \"From Alain - general summary. Answering : Patent ep3170862\",\n",
      "      \"query\": \"The invention relates to a thermoplastic composition, comprising:\\n(1) an acrylonitrile-butadiene-styrene (ABS) polymer;\\n(2) natural fibers;\\n(3) a compatibilizing polymer; and\\n(4) processing aids comprising a lubricant and titanium dioxide; wherein the amount of titanium dioxide is 1 - 10 weight%.\\nA molded article prepared from the thermoplastic composition is also claimed. Use of the thermoplastic composition in extrusion, injection, compression molding, and 3D printing, is also concerned.\\n\",\n",
      "      \"target-document\": \"file://33f4c3d5-0a4e-4a65-874a-885736c2b114.csv:questel:76196631-line:0000001730\",\n",
      "      \"qid\": 1,\n",
      "      \"docid\": \"3\",\n",
      "      \"relevance\": 1\n",
      "    },\n",
      "    {\n",
      "      \"description\": \"From Alain - general summary. Answering : Patent ep3170862 / duplicate\",\n",
      "      \"query\": \"The invention relates to a thermoplastic composition, comprising:\\n(1) an acrylonitrile-butadiene-styrene (ABS) polymer;\\n(2) natural fibers;\\n(3) a compatibilizing polymer; and\\n(4) processing aids comprising a lubricant and titanium dioxide; wherein the amount of titanium dioxide is 1 - 10 weight%.\\nA molded article prepared from the thermoplastic composition is also claimed. Use of the thermoplastic composition in extrusion, injection, compression molding, and 3D printing, is also concerned.\\n\",\n",
      "      \"target-document\": \"file://a860251e-005f-481a-8bbe-a4a1cc6d1c39-095840-utf8.csv-extract.csv:questel:76196631-line:0000002479\",\n",
      "      \"qid\": 1,\n",
      "      \"docid\": \"4\",\n",
      "      \"relevance\": 1\n",
      "    },\n",
      "    {\n",
      "      \"description\": \"From - Alain General summary 2. Answering : Patent cn102924940\",\n",
      "      \"query\": \"NOVELTY - A thermoplastic composition comprises acrylonitrile butadiene styrene (ABS) polymer, natural fibers, a compatibilizing polymer and processing aids comprising a lubricant and 1-10 weight% titanium dioxide.\\nUSE - Thermoplastic composition is used for forming molded articles by extrusion molding, injection molding, compression molding and three-dimensional printing (all claimed).\\nADVANTAGE - The thermoplastic composition exhibits excellent impact resistance, flowability ratio, mechanical and thermal properties, and is environmentally-friendly, and provides molded articles having excellent surface appearance, design property, coloring properties and surface finish without the need of any additional surface treatment. The thermoplastic composition is manufactured by a simple process, and is easy to implement industrially.\\n\",\n",
      "      \"target-document\": \"file://33f4c3d5-0a4e-4a65-874a-885736c2b114.csv:questel:8103268-line:0000001084\",\n",
      "      \"qid\": 2,\n",
      "      \"docid\": \"1\",\n",
      "      \"relevance\": 1\n",
      "    },\n",
      "    {\n",
      "      \"description\": \"From - Alain General summary 2. Answering : Patent cn104194125\",\n",
      "      \"query\": \"NOVELTY - A thermoplastic composition comprises acrylonitrile butadiene styrene (ABS) polymer, natural fibers, a compatibilizing polymer and processing aids comprising a lubricant and 1-10 weight% titanium dioxide.\\nUSE - Thermoplastic composition is used for forming molded articles by extrusion molding, injection molding, compression molding and three-dimensional printing (all claimed).\\nADVANTAGE - The thermoplastic composition exhibits excellent impact resistance, flowability ratio, mechanical and thermal properties, and is environmentally-friendly, and provides molded articles having excellent surface appearance, design property, coloring properties and surface finish without the need of any additional surface treatment. The thermoplastic composition is manufactured by a simple process, and is easy to implement industrially.\\n\",\n",
      "      \"target-document\": \"file://33f4c3d5-0a4e-4a65-874a-885736c2b114.csv:questel:68078856-line:0000001598\",\n",
      "      \"qid\": 2,\n",
      "      \"docid\": \"2\",\n",
      "      \"relevance\": 1\n",
      "    },\n",
      "    {\n",
      "      \"description\": \"From - Alain General summary 2. Answering : Patent ep3170862\",\n",
      "      \"query\": \"NOVELTY - A thermoplastic composition comprises acrylonitrile butadiene styrene (ABS) polymer, natural fibers, a compatibilizing polymer and processing aids comprising a lubricant and 1-10 weight% titanium dioxide.\\nUSE - Thermoplastic composition is used for forming molded articles by extrusion molding, injection molding, compression molding and three-dimensional printing (all claimed).\\nADVANTAGE - The thermoplastic composition exhibits excellent impact resistance, flowability ratio, mechanical and thermal properties, and is environmentally-friendly, and provides molded articles having excellent surface appearance, design property, coloring properties and surface finish without the need of any additional surface treatment. The thermoplastic composition is manufactured by a simple process, and is easy to implement industrially.\\n\",\n",
      "      \"target-document\": \"file://33f4c3d5-0a4e-4a65-874a-885736c2b114.csv:questel:76196631-line:0000001730\",\n",
      "      \"qid\": 2,\n",
      "      \"docid\": \"3\",\n",
      "      \"relevance\": 1\n",
      "    },\n",
      "    {\n",
      "      \"description\": \"From - Alain General summary 2. Answering : Patent ep3170862 / duplicate\",\n",
      "      \"query\": \"NOVELTY - A thermoplastic composition comprises acrylonitrile butadiene styrene (ABS) polymer, natural fibers, a compatibilizing polymer and processing aids comprising a lubricant and 1-10 weight% titanium dioxide.\\nUSE - Thermoplastic composition is used for forming molded articles by extrusion molding, injection molding, compression molding and three-dimensional printing (all claimed).\\nADVANTAGE - The thermoplastic composition exhibits excellent impact resistance, flowability ratio, mechanical and thermal properties, and is environmentally-friendly, and provides molded articles having excellent surface appearance, design property, coloring properties and surface finish without the need of any additional surface treatment. The thermoplastic composition is manufactured by a simple process, and is easy to implement industrially.\\n\",\n",
      "      \"target-document\": \"file://a860251e-005f-481a-8bbe-a4a1cc6d1c39-095840-utf8.csv-extract.csv:questel:76196631-line:0000002479\",\n",
      "      \"qid\": 2,\n",
      "      \"docid\": \"4\",\n",
      "      \"relevance\": 1\n",
      "    },\n",
      "    {\n",
      "      \"description\": \"From Manuel - We have invented. Answering : Patent cn102924940\",\n",
      "      \"query\": \"A composition that can lead to thermoplastic composites with an ABS (Acrylonitrile-Butadiene-\\nStyrene copolymer)-matrix reinforced by (or filled with) natural fibers (mainly cellulose-based or\\nwood fibers).\\nOptionally, a rubber-free copolymer, such as SAN (Styrene-Acrylonitrile) can be added to the\\ncomposition.\\nThe composition also includes:\\ni) a compatibilizer polymer or copolymer carrying reactive (or functional) epoxy, anhydride\\nor N-phenyl maleimide groups (or moieties), such as SMA (Styrene-Maleic Anhydride), and SMI\\n(Styrene-Maleic Anhydride-N-phenyl maleimide) copolymers\\nii) a lubricant, such as EBS (Ethylene-Bis-Stereamide), and titanium dioxide (TiO 2 ) as\\nprocessing aids. The use of titanium dioxide is particularly useful for the production of parts with\\ngood appearance.\\niii) optionally, any other additive known to the man skilled in the art, such as pigments, fillers,\\nanti-oxidants, stabilizers, antistatic agents, mold-releasing agents, etc.\\nFor all styrenic copolymers, styrene can be, at least partially, substituted by alpha-methyl styrene.\\nThe composition can be processed easily through injection, extrusion, compression molding, 3D-\\nprinting, etc. leading to articles with excellent surface appearance, homogeneous fiber dispersion,\\nand a good balance of mechanical, and thermal properties, such as impact resistance, flow ability,\\nstiffness, heat resistance.\\nThe composition, the resulting composites, and articles produced thereof, are all embodiments of\\nthe invention.\",\n",
      "      \"target-document\": \"file://33f4c3d5-0a4e-4a65-874a-885736c2b114.csv:questel:8103268-line:0000001084\",\n",
      "      \"qid\": 3,\n",
      "      \"docid\": \"1\",\n",
      "      \"relevance\": 1\n",
      "    },\n",
      "    {\n",
      "      \"description\": \"From Manuel - We have invented. Answering : Patent cn104194125\",\n",
      "      \"query\": \"A composition that can lead to thermoplastic composites with an ABS (Acrylonitrile-Butadiene-\\nStyrene copolymer)-matrix reinforced by (or filled with) natural fibers (mainly cellulose-based or\\nwood fibers).\\nOptionally, a rubber-free copolymer, such as SAN (Styrene-Acrylonitrile) can be added to the\\ncomposition.\\nThe composition also includes:\\ni) a compatibilizer polymer or copolymer carrying reactive (or functional) epoxy, anhydride\\nor N-phenyl maleimide groups (or moieties), such as SMA (Styrene-Maleic Anhydride), and SMI\\n(Styrene-Maleic Anhydride-N-phenyl maleimide) copolymers\\nii) a lubricant, such as EBS (Ethylene-Bis-Stereamide), and titanium dioxide (TiO 2 ) as\\nprocessing aids. The use of titanium dioxide is particularly useful for the production of parts with\\ngood appearance.\\niii) optionally, any other additive known to the man skilled in the art, such as pigments, fillers,\\nanti-oxidants, stabilizers, antistatic agents, mold-releasing agents, etc.\\nFor all styrenic copolymers, styrene can be, at least partially, substituted by alpha-methyl styrene.\\nThe composition can be processed easily through injection, extrusion, compression molding, 3D-\\nprinting, etc. leading to articles with excellent surface appearance, homogeneous fiber dispersion,\\nand a good balance of mechanical, and thermal properties, such as impact resistance, flow ability,\\nstiffness, heat resistance.\\nThe composition, the resulting composites, and articles produced thereof, are all embodiments of\\nthe invention.\",\n",
      "      \"target-document\": \"file://33f4c3d5-0a4e-4a65-874a-885736c2b114.csv:questel:68078856-line:0000001598\",\n",
      "      \"qid\": 3,\n",
      "      \"docid\": \"2\",\n",
      "      \"relevance\": 1\n",
      "    },\n",
      "    {\n",
      "      \"description\": \"From Manuel - We have invented. Answering : Patent ep3170862\",\n",
      "      \"query\": \"A composition that can lead to thermoplastic composites with an ABS (Acrylonitrile-Butadiene-\\nStyrene copolymer)-matrix reinforced by (or filled with) natural fibers (mainly cellulose-based or\\nwood fibers).\\nOptionally, a rubber-free copolymer, such as SAN (Styrene-Acrylonitrile) can be added to the\\ncomposition.\\nThe composition also includes:\\ni) a compatibilizer polymer or copolymer carrying reactive (or functional) epoxy, anhydride\\nor N-phenyl maleimide groups (or moieties), such as SMA (Styrene-Maleic Anhydride), and SMI\\n(Styrene-Maleic Anhydride-N-phenyl maleimide) copolymers\\nii) a lubricant, such as EBS (Ethylene-Bis-Stereamide), and titanium dioxide (TiO 2 ) as\\nprocessing aids. The use of titanium dioxide is particularly useful for the production of parts with\\ngood appearance.\\niii) optionally, any other additive known to the man skilled in the art, such as pigments, fillers,\\nanti-oxidants, stabilizers, antistatic agents, mold-releasing agents, etc.\\nFor all styrenic copolymers, styrene can be, at least partially, substituted by alpha-methyl styrene.\\nThe composition can be processed easily through injection, extrusion, compression molding, 3D-\\nprinting, etc. leading to articles with excellent surface appearance, homogeneous fiber dispersion,\\nand a good balance of mechanical, and thermal properties, such as impact resistance, flow ability,\\nstiffness, heat resistance.\\nThe composition, the resulting composites, and articles produced thereof, are all embodiments of\\nthe invention.\",\n",
      "      \"target-document\": \"file://33f4c3d5-0a4e-4a65-874a-885736c2b114.csv:questel:76196631-line:0000001730\",\n",
      "      \"qid\": 3,\n",
      "      \"docid\": \"3\",\n",
      "      \"relevance\": 1\n",
      "    },\n",
      "    {\n",
      "      \"description\": \"From Manuel - We have invented. Answering : Patent Patent ep3170862 / duplicate\",\n",
      "      \"query\": \"A composition that can lead to thermoplastic composites with an ABS (Acrylonitrile-Butadiene-\\nStyrene copolymer)-matrix reinforced by (or filled with) natural fibers (mainly cellulose-based or\\nwood fibers).\\nOptionally, a rubber-free copolymer, such as SAN (Styrene-Acrylonitrile) can be added to the\\ncomposition.\\nThe composition also includes:\\ni) a compatibilizer polymer or copolymer carrying reactive (or functional) epoxy, anhydride\\nor N-phenyl maleimide groups (or moieties), such as SMA (Styrene-Maleic Anhydride), and SMI\\n(Styrene-Maleic Anhydride-N-phenyl maleimide) copolymers\\nii) a lubricant, such as EBS (Ethylene-Bis-Stereamide), and titanium dioxide (TiO 2 ) as\\nprocessing aids. The use of titanium dioxide is particularly useful for the production of parts with\\ngood appearance.\\niii) optionally, any other additive known to the man skilled in the art, such as pigments, fillers,\\nanti-oxidants, stabilizers, antistatic agents, mold-releasing agents, etc.\\nFor all styrenic copolymers, styrene can be, at least partially, substituted by alpha-methyl styrene.\\nThe composition can be processed easily through injection, extrusion, compression molding, 3D-\\nprinting, etc. leading to articles with excellent surface appearance, homogeneous fiber dispersion,\\nand a good balance of mechanical, and thermal properties, such as impact resistance, flow ability,\\nstiffness, heat resistance.\\nThe composition, the resulting composites, and articles produced thereof, are all embodiments of\\nthe invention.\",\n",
      "      \"target-document\": \"file://a860251e-005f-481a-8bbe-a4a1cc6d1c39-095840-utf8.csv-extract.csv:questel:76196631-line:0000002479\",\n",
      "      \"qid\": 3,\n",
      "      \"docid\": \"4\",\n",
      "      \"relevance\": 1\n",
      "    }\n",
      "  ]\n",
      "}\n"
     ]
    }
   ],
   "source": [
    "with open(eval_file) as eval_f:\n",
    "    data = json.load(eval_f)\n",
    "    eval_f.close()\n",
    "    print(json.dumps(data, indent=2))"
   ]
  },
  {
   "cell_type": "markdown",
   "id": "d2798be6-1369-4fb0-a56c-8401c81d907a",
   "metadata": {},
   "source": [
    "## Run evaluation"
   ]
  },
  {
   "cell_type": "code",
   "execution_count": 5,
   "id": "5787f3ad-a7c6-4303-9bce-2a7302b95a6a",
   "metadata": {},
   "outputs": [
    {
     "name": "stdout",
     "output_type": "stream",
     "text": [
      "[ThotLogger.py:102 -                 info()][Time(2021-05-31 12:00:19,719) - Level(INFO) PID(40688)] /home/tkeir_svc/tkeir/configs/test/configs/searching.json loaded.\n"
     ]
    },
    {
     "name": "stderr",
     "output_type": "stream",
     "text": [
      "[nltk_data] Downloading package punkt to\n",
      "[nltk_data]     /home/tkeir_svc/nltk_data...\n",
      "[nltk_data]   Package punkt is already up-to-date!\n"
     ]
    },
    {
     "name": "stdout",
     "output_type": "stream",
     "text": [
      "[ThotLogger.py:102 -                 info()][Time(2021-05-31 12:00:20,803) - Level(INFO) PID(40688)] Load tokenizer:/home/tkeir_svc/tkeir/thot/tests/data/tkeir_mwe.pkl\n",
      "[ThotLogger.py:102 -                 info()][Time(2021-05-31 12:00:24,178) - Level(INFO) PID(40688)] Load normalization tokenizer:/home/tkeir_svc/tkeir/thot/tests/data/tokenizer-rules.json\n",
      "[ThotLogger.py:102 -                 info()][Time(2021-05-31 12:00:26,935) - Level(INFO) PID(40688)] Load mwe:/home/tkeir_svc/tkeir/thot/tests/data/tkeir_mwe.pkl\n",
      "[ThotLogger.py:102 -                 info()][Time(2021-05-31 12:00:33,886) - Level(INFO) PID(40688)] Load Syntactic Rules\n",
      "[ThotLogger.py:102 -                 info()][Time(2021-05-31 12:00:33,891) - Level(INFO) PID(40688)] Run query:[1] : From Alain - general summary. Answering : Patent cn102924940\n",
      "[ThotLogger.py:102 -                 info()][Time(2021-05-31 12:01:03,729) - Level(INFO) PID(40688)] Run query:[2] : From - Alain General summary 2. Answering : Patent cn102924940\n",
      "[ThotLogger.py:102 -                 info()][Time(2021-05-31 12:01:30,991) - Level(INFO) PID(40688)] Run query:[3] : From Manuel - We have invented. Answering : Patent cn102924940\n"
     ]
    }
   ],
   "source": [
    "ireval.evaluate(output_dir,eval_name,eval_file)"
   ]
  },
  {
   "cell_type": "markdown",
   "id": "ea43e766-2179-489f-ae32-8f4387f717ff",
   "metadata": {},
   "source": [
    "# Display results"
   ]
  },
  {
   "cell_type": "code",
   "execution_count": 6,
   "id": "28ea1de6-931b-45f5-86dc-7bf83c3ac7e7",
   "metadata": {},
   "outputs": [
    {
     "name": "stdout",
     "output_type": "stream",
     "text": [
      "  query  P_10  P_100  P_1000      P_15  P_20  P_200      P_30  P_5  P_500  \\\n",
      "0   all   0.2   0.02   0.002  0.133333   0.1   0.01  0.066667  0.4  0.004   \n",
      "\n",
      "   ...   TFN_100     R_200    F1_200   TFN_200     R_500    F1_500   TFN_500  \\\n",
      "0  ...  0.120289  0.166667  0.018868  0.060036  0.166667  0.007812  0.024002   \n",
      "\n",
      "     R_1000   F1_1000 TFN_1000  \n",
      "0  0.166667  0.003953    0.012  \n",
      "\n",
      "[1 rows x 41 columns]\n"
     ]
    }
   ],
   "source": [
    "df = pd.read_csv(\"/tmp/results.dryrun.csv\")\n",
    "print(df.head())"
   ]
  },
  {
   "cell_type": "markdown",
   "id": "32fa9334-8040-475a-a3dc-eabc53aa488f",
   "metadata": {},
   "source": [
    "## Sample sizes\n"
   ]
  },
  {
   "cell_type": "code",
   "execution_count": 7,
   "id": "2fd27194-0308-43d7-b1d1-4d4af297b24a",
   "metadata": {},
   "outputs": [
    {
     "name": "stdout",
     "output_type": "stream",
     "text": [
      "Number of queries: 3\n",
      "Number of relevant documents: 12\n",
      "Number of relevant documents returned: 6\n"
     ]
    }
   ],
   "source": [
    "print(\"Number of queries:\",df[\"num_q\"].values[0])\n",
    "print(\"Number of relevant documents:\",df[\"num_rel\"].values[0])\n",
    "print(\"Number of relevant documents returned:\",df[\"num_rel_ret\"].values[0])\n"
   ]
  },
  {
   "cell_type": "markdown",
   "id": "b537f403-19bb-46cf-a86d-9cbc497020a3",
   "metadata": {},
   "source": [
    "## Precisions, Recall, F1, False Negative Rate @K\n"
   ]
  },
  {
   "cell_type": "code",
   "execution_count": 8,
   "id": "bd59897a-abaa-4bd9-9d87-8e3df662352c",
   "metadata": {},
   "outputs": [],
   "source": [
    "df_prec = pd.DataFrame([\n",
    "    [5,df[\"P_5\"].values[0]],\n",
    "    [10,df[\"P_10\"].values[0]],\n",
    "    [15,df[\"P_15\"].values[0]],\n",
    "    [20,df[\"P_20\"].values[0]],\n",
    "    [30,df[\"P_30\"].values[0]],\n",
    "    [100,df[\"P_100\"].values[0]],\n",
    "    [200,df[\"P_200\"].values[0]],\n",
    "    [500,df[\"P_500\"].values[0]],\n",
    "    [1000,df[\"P_1000\"].values[0]]],columns=[\"@K\",\"precision\"])\n",
    "df_rec = pd.DataFrame([\n",
    "    [15,df[\"R_15\"].values[0]],\n",
    "    [20,df[\"R_20\"].values[0]],\n",
    "    [30,df[\"R_30\"].values[0]],\n",
    "    [100,df[\"R_100\"].values[0]],\n",
    "    [200,df[\"R_200\"].values[0]],\n",
    "    [500,df[\"R_500\"].values[0]],\n",
    "    [1000,df[\"R_1000\"].values[0]]],columns=[\"@K\",\"recall\"])\n",
    "df_f1 = pd.DataFrame([    \n",
    "    [15,df[\"F1_15\"].values[0]],\n",
    "    [20,df[\"F1_20\"].values[0]],\n",
    "    [30,df[\"F1_30\"].values[0]],\n",
    "    [100,df[\"F1_100\"].values[0]],\n",
    "    [200,df[\"F1_200\"].values[0]],\n",
    "    [500,df[\"F1_500\"].values[0]],\n",
    "    [1000,df[\"F1_1000\"].values[0]]],columns=[\"@K\",\"f1\"])\n",
    "df_fn = pd.DataFrame([    \n",
    "    [15,df[\"TFN_15\"].values[0]],\n",
    "    [20,df[\"TFN_20\"].values[0]],\n",
    "    [30,df[\"TFN_30\"].values[0]],\n",
    "    [100,df[\"TFN_100\"].values[0]],\n",
    "    [200,df[\"TFN_200\"].values[0]],\n",
    "    [500,df[\"TFN_500\"].values[0]],\n",
    "    [1000,df[\"TFN_1000\"].values[0]]],columns=[\"@K\",\"false negative rate\"])\n"
   ]
  },
  {
   "cell_type": "code",
   "execution_count": 9,
   "id": "4a4dcce7-08ec-4713-9c01-485a48599bf4",
   "metadata": {},
   "outputs": [
    {
     "data": {
      "text/html": [
       "<div>\n",
       "<style scoped>\n",
       "    .dataframe tbody tr th:only-of-type {\n",
       "        vertical-align: middle;\n",
       "    }\n",
       "\n",
       "    .dataframe tbody tr th {\n",
       "        vertical-align: top;\n",
       "    }\n",
       "\n",
       "    .dataframe thead th {\n",
       "        text-align: right;\n",
       "    }\n",
       "</style>\n",
       "<table border=\"1\" class=\"dataframe\">\n",
       "  <thead>\n",
       "    <tr style=\"text-align: right;\">\n",
       "      <th></th>\n",
       "      <th>@K</th>\n",
       "      <th>precision</th>\n",
       "    </tr>\n",
       "  </thead>\n",
       "  <tbody>\n",
       "    <tr>\n",
       "      <th>0</th>\n",
       "      <td>5</td>\n",
       "      <td>0.400000</td>\n",
       "    </tr>\n",
       "    <tr>\n",
       "      <th>1</th>\n",
       "      <td>10</td>\n",
       "      <td>0.200000</td>\n",
       "    </tr>\n",
       "    <tr>\n",
       "      <th>2</th>\n",
       "      <td>15</td>\n",
       "      <td>0.133333</td>\n",
       "    </tr>\n",
       "    <tr>\n",
       "      <th>3</th>\n",
       "      <td>20</td>\n",
       "      <td>0.100000</td>\n",
       "    </tr>\n",
       "    <tr>\n",
       "      <th>4</th>\n",
       "      <td>30</td>\n",
       "      <td>0.066667</td>\n",
       "    </tr>\n",
       "    <tr>\n",
       "      <th>5</th>\n",
       "      <td>100</td>\n",
       "      <td>0.020000</td>\n",
       "    </tr>\n",
       "    <tr>\n",
       "      <th>6</th>\n",
       "      <td>200</td>\n",
       "      <td>0.010000</td>\n",
       "    </tr>\n",
       "    <tr>\n",
       "      <th>7</th>\n",
       "      <td>500</td>\n",
       "      <td>0.004000</td>\n",
       "    </tr>\n",
       "    <tr>\n",
       "      <th>8</th>\n",
       "      <td>1000</td>\n",
       "      <td>0.002000</td>\n",
       "    </tr>\n",
       "  </tbody>\n",
       "</table>\n",
       "</div>"
      ],
      "text/plain": [
       "     @K  precision\n",
       "0     5   0.400000\n",
       "1    10   0.200000\n",
       "2    15   0.133333\n",
       "3    20   0.100000\n",
       "4    30   0.066667\n",
       "5   100   0.020000\n",
       "6   200   0.010000\n",
       "7   500   0.004000\n",
       "8  1000   0.002000"
      ]
     },
     "execution_count": 9,
     "metadata": {},
     "output_type": "execute_result"
    }
   ],
   "source": [
    "df_prec"
   ]
  },
  {
   "cell_type": "code",
   "execution_count": 10,
   "id": "9a88ff47-3e8a-429c-bafe-c86807662a76",
   "metadata": {},
   "outputs": [
    {
     "data": {
      "text/html": [
       "<div>\n",
       "<style scoped>\n",
       "    .dataframe tbody tr th:only-of-type {\n",
       "        vertical-align: middle;\n",
       "    }\n",
       "\n",
       "    .dataframe tbody tr th {\n",
       "        vertical-align: top;\n",
       "    }\n",
       "\n",
       "    .dataframe thead th {\n",
       "        text-align: right;\n",
       "    }\n",
       "</style>\n",
       "<table border=\"1\" class=\"dataframe\">\n",
       "  <thead>\n",
       "    <tr style=\"text-align: right;\">\n",
       "      <th></th>\n",
       "      <th>@K</th>\n",
       "      <th>recall</th>\n",
       "    </tr>\n",
       "  </thead>\n",
       "  <tbody>\n",
       "    <tr>\n",
       "      <th>0</th>\n",
       "      <td>15</td>\n",
       "      <td>0.166667</td>\n",
       "    </tr>\n",
       "    <tr>\n",
       "      <th>1</th>\n",
       "      <td>20</td>\n",
       "      <td>0.166667</td>\n",
       "    </tr>\n",
       "    <tr>\n",
       "      <th>2</th>\n",
       "      <td>30</td>\n",
       "      <td>0.166667</td>\n",
       "    </tr>\n",
       "    <tr>\n",
       "      <th>3</th>\n",
       "      <td>100</td>\n",
       "      <td>0.166667</td>\n",
       "    </tr>\n",
       "    <tr>\n",
       "      <th>4</th>\n",
       "      <td>200</td>\n",
       "      <td>0.166667</td>\n",
       "    </tr>\n",
       "    <tr>\n",
       "      <th>5</th>\n",
       "      <td>500</td>\n",
       "      <td>0.166667</td>\n",
       "    </tr>\n",
       "    <tr>\n",
       "      <th>6</th>\n",
       "      <td>1000</td>\n",
       "      <td>0.166667</td>\n",
       "    </tr>\n",
       "  </tbody>\n",
       "</table>\n",
       "</div>"
      ],
      "text/plain": [
       "     @K    recall\n",
       "0    15  0.166667\n",
       "1    20  0.166667\n",
       "2    30  0.166667\n",
       "3   100  0.166667\n",
       "4   200  0.166667\n",
       "5   500  0.166667\n",
       "6  1000  0.166667"
      ]
     },
     "execution_count": 10,
     "metadata": {},
     "output_type": "execute_result"
    }
   ],
   "source": [
    "df_rec"
   ]
  },
  {
   "cell_type": "code",
   "execution_count": 11,
   "id": "8876d783-7467-4c4d-98f9-d18d9d38bf4f",
   "metadata": {},
   "outputs": [
    {
     "data": {
      "text/html": [
       "<div>\n",
       "<style scoped>\n",
       "    .dataframe tbody tr th:only-of-type {\n",
       "        vertical-align: middle;\n",
       "    }\n",
       "\n",
       "    .dataframe tbody tr th {\n",
       "        vertical-align: top;\n",
       "    }\n",
       "\n",
       "    .dataframe thead th {\n",
       "        text-align: right;\n",
       "    }\n",
       "</style>\n",
       "<table border=\"1\" class=\"dataframe\">\n",
       "  <thead>\n",
       "    <tr style=\"text-align: right;\">\n",
       "      <th></th>\n",
       "      <th>@K</th>\n",
       "      <th>f1</th>\n",
       "    </tr>\n",
       "  </thead>\n",
       "  <tbody>\n",
       "    <tr>\n",
       "      <th>0</th>\n",
       "      <td>15</td>\n",
       "      <td>0.148148</td>\n",
       "    </tr>\n",
       "    <tr>\n",
       "      <th>1</th>\n",
       "      <td>20</td>\n",
       "      <td>0.125000</td>\n",
       "    </tr>\n",
       "    <tr>\n",
       "      <th>2</th>\n",
       "      <td>30</td>\n",
       "      <td>0.095238</td>\n",
       "    </tr>\n",
       "    <tr>\n",
       "      <th>3</th>\n",
       "      <td>100</td>\n",
       "      <td>0.035714</td>\n",
       "    </tr>\n",
       "    <tr>\n",
       "      <th>4</th>\n",
       "      <td>200</td>\n",
       "      <td>0.018868</td>\n",
       "    </tr>\n",
       "    <tr>\n",
       "      <th>5</th>\n",
       "      <td>500</td>\n",
       "      <td>0.007812</td>\n",
       "    </tr>\n",
       "    <tr>\n",
       "      <th>6</th>\n",
       "      <td>1000</td>\n",
       "      <td>0.003953</td>\n",
       "    </tr>\n",
       "  </tbody>\n",
       "</table>\n",
       "</div>"
      ],
      "text/plain": [
       "     @K        f1\n",
       "0    15  0.148148\n",
       "1    20  0.125000\n",
       "2    30  0.095238\n",
       "3   100  0.035714\n",
       "4   200  0.018868\n",
       "5   500  0.007812\n",
       "6  1000  0.003953"
      ]
     },
     "execution_count": 11,
     "metadata": {},
     "output_type": "execute_result"
    }
   ],
   "source": [
    "df_f1"
   ]
  },
  {
   "cell_type": "code",
   "execution_count": 12,
   "id": "a5916470-2bb9-4b69-9366-b767272dfa9c",
   "metadata": {},
   "outputs": [
    {
     "data": {
      "text/html": [
       "<div>\n",
       "<style scoped>\n",
       "    .dataframe tbody tr th:only-of-type {\n",
       "        vertical-align: middle;\n",
       "    }\n",
       "\n",
       "    .dataframe tbody tr th {\n",
       "        vertical-align: top;\n",
       "    }\n",
       "\n",
       "    .dataframe thead th {\n",
       "        text-align: right;\n",
       "    }\n",
       "</style>\n",
       "<table border=\"1\" class=\"dataframe\">\n",
       "  <thead>\n",
       "    <tr style=\"text-align: right;\">\n",
       "      <th></th>\n",
       "      <th>@K</th>\n",
       "      <th>false negative rate</th>\n",
       "    </tr>\n",
       "  </thead>\n",
       "  <tbody>\n",
       "    <tr>\n",
       "      <th>0</th>\n",
       "      <td>15</td>\n",
       "      <td>0.895522</td>\n",
       "    </tr>\n",
       "    <tr>\n",
       "      <th>1</th>\n",
       "      <td>20</td>\n",
       "      <td>0.638298</td>\n",
       "    </tr>\n",
       "    <tr>\n",
       "      <th>2</th>\n",
       "      <td>30</td>\n",
       "      <td>0.410959</td>\n",
       "    </tr>\n",
       "    <tr>\n",
       "      <th>3</th>\n",
       "      <td>100</td>\n",
       "      <td>0.120289</td>\n",
       "    </tr>\n",
       "    <tr>\n",
       "      <th>4</th>\n",
       "      <td>200</td>\n",
       "      <td>0.060036</td>\n",
       "    </tr>\n",
       "    <tr>\n",
       "      <th>5</th>\n",
       "      <td>500</td>\n",
       "      <td>0.024002</td>\n",
       "    </tr>\n",
       "    <tr>\n",
       "      <th>6</th>\n",
       "      <td>1000</td>\n",
       "      <td>0.012000</td>\n",
       "    </tr>\n",
       "  </tbody>\n",
       "</table>\n",
       "</div>"
      ],
      "text/plain": [
       "     @K  false negative rate\n",
       "0    15             0.895522\n",
       "1    20             0.638298\n",
       "2    30             0.410959\n",
       "3   100             0.120289\n",
       "4   200             0.060036\n",
       "5   500             0.024002\n",
       "6  1000             0.012000"
      ]
     },
     "execution_count": 12,
     "metadata": {},
     "output_type": "execute_result"
    }
   ],
   "source": [
    "df_fn"
   ]
  },
  {
   "cell_type": "markdown",
   "id": "f1ea001d-aeaf-4522-9b98-c6b3f73e3868",
   "metadata": {},
   "source": [
    "## Other metrics"
   ]
  },
  {
   "cell_type": "code",
   "execution_count": 13,
   "id": "1e0221cd-d0b2-4e86-ab07-a919f48bee8e",
   "metadata": {},
   "outputs": [
    {
     "name": "stdout",
     "output_type": "stream",
     "text": [
      "MAP (Mean Average Precision): 0.5\n"
     ]
    }
   ],
   "source": [
    "print(\"MAP (Mean Average Precision):\",df[\"map\"].values[0])"
   ]
  },
  {
   "cell_type": "markdown",
   "id": "e258f166-0c68-43d2-a303-5b199ace50a9",
   "metadata": {},
   "source": [
    "## Quick run on query"
   ]
  },
  {
   "cell_type": "code",
   "execution_count": 14,
   "id": "5464ee58-459e-41a9-ae5b-956c22a21cce",
   "metadata": {},
   "outputs": [
    {
     "name": "stdout",
     "output_type": "stream",
     "text": [
      "[ThotLogger.py:102 -                 info()][Time(2021-05-31 12:02:11,104) - Level(INFO) PID(40688)] /home/tkeir_svc/tkeir/configs/test/configs/searching.json loaded.\n",
      "[ThotLogger.py:102 -                 info()][Time(2021-05-31 12:02:11,104) - Level(INFO) PID(40688)] /home/tkeir_svc/tkeir/configs/test/configs/searching.json loaded.\n"
     ]
    },
    {
     "name": "stderr",
     "output_type": "stream",
     "text": [
      "[nltk_data] Downloading package punkt to\n",
      "[nltk_data]     /home/tkeir_svc/nltk_data...\n",
      "[nltk_data]   Package punkt is already up-to-date!\n"
     ]
    },
    {
     "name": "stdout",
     "output_type": "stream",
     "text": [
      "[ThotLogger.py:102 -                 info()][Time(2021-05-31 12:02:11,809) - Level(INFO) PID(40688)] Load tokenizer:/home/tkeir_svc/tkeir/thot/tests/data/tkeir_mwe.pkl\n",
      "[ThotLogger.py:102 -                 info()][Time(2021-05-31 12:02:11,809) - Level(INFO) PID(40688)] Load tokenizer:/home/tkeir_svc/tkeir/thot/tests/data/tkeir_mwe.pkl\n",
      "[ThotLogger.py:102 -                 info()][Time(2021-05-31 12:02:14,638) - Level(INFO) PID(40688)] Load normalization tokenizer:/home/tkeir_svc/tkeir/thot/tests/data/tokenizer-rules.json\n",
      "[ThotLogger.py:102 -                 info()][Time(2021-05-31 12:02:14,638) - Level(INFO) PID(40688)] Load normalization tokenizer:/home/tkeir_svc/tkeir/thot/tests/data/tokenizer-rules.json\n",
      "[ThotLogger.py:102 -                 info()][Time(2021-05-31 12:02:17,299) - Level(INFO) PID(40688)] Load mwe:/home/tkeir_svc/tkeir/thot/tests/data/tkeir_mwe.pkl\n",
      "[ThotLogger.py:102 -                 info()][Time(2021-05-31 12:02:17,299) - Level(INFO) PID(40688)] Load mwe:/home/tkeir_svc/tkeir/thot/tests/data/tkeir_mwe.pkl\n",
      "[ThotLogger.py:102 -                 info()][Time(2021-05-31 12:02:24,672) - Level(INFO) PID(40688)] Load Syntactic Rules\n",
      "[ThotLogger.py:102 -                 info()][Time(2021-05-31 12:02:24,672) - Level(INFO) PID(40688)] Load Syntactic Rules\n",
      "[ThotLogger.py:102 -                 info()][Time(2021-05-31 12:02:24,678) - Level(INFO) PID(40688)] Run query:[1] : online query\n",
      "[ThotLogger.py:102 -                 info()][Time(2021-05-31 12:02:24,678) - Level(INFO) PID(40688)] Run query:[1] : online query\n"
     ]
    }
   ],
   "source": [
    "ireval.evaluateQuery(\"natural wood fiber\",\"file://33f4c3d5-0a4e-4a65-874a-885736c2b114.csv:questel:8103268-line:0000001084\",\"/home/tkeir_svc/tkeir/configs/test/configs/searching.json\",\"/tmp/\",\"customquery\")"
   ]
  },
  {
   "cell_type": "code",
   "execution_count": 15,
   "id": "b5969cf7-9cf3-41a8-956a-3253a6a69acd",
   "metadata": {},
   "outputs": [
    {
     "name": "stdout",
     "output_type": "stream",
     "text": [
      "  query  P_10  P_100  P_1000      P_15  P_20  P_200      P_30  P_5  P_500  \\\n",
      "0   all   0.1   0.01   0.001  0.066667  0.05  0.005  0.033333  0.2  0.002   \n",
      "\n",
      "   ...   TFN_100  R_200   F1_200  TFN_200  R_500    F1_500  TFN_500  R_1000  \\\n",
      "0  ...  0.010001    1.0  0.00995    0.005    1.0  0.003992    0.002     1.0   \n",
      "\n",
      "    F1_1000 TFN_1000  \n",
      "0  0.001998    0.001  \n",
      "\n",
      "[1 rows x 47 columns]\n"
     ]
    }
   ],
   "source": [
    "df = pd.read_csv(\"/tmp/results.customquery.csv\")\n",
    "print(df.head())"
   ]
  },
  {
   "cell_type": "code",
   "execution_count": 16,
   "id": "1f60b878-32f3-47f0-bed3-3aa723fe2755",
   "metadata": {},
   "outputs": [
    {
     "name": "stdout",
     "output_type": "stream",
     "text": [
      "Number of queries: 1\n",
      "Number of relevant documents: 1\n",
      "Number of relevant documents returned: 1\n"
     ]
    }
   ],
   "source": [
    "print(\"Number of queries:\",df[\"num_q\"].values[0])\n",
    "print(\"Number of relevant documents:\",df[\"num_rel\"].values[0])\n",
    "print(\"Number of relevant documents returned:\",df[\"num_rel_ret\"].values[0])\n",
    "df_prec = pd.DataFrame([\n",
    "    [5,df[\"P_5\"].values[0]],\n",
    "    [10,df[\"P_10\"].values[0]],\n",
    "    [15,df[\"P_15\"].values[0]],\n",
    "    [20,df[\"P_20\"].values[0]],\n",
    "    [30,df[\"P_30\"].values[0]],\n",
    "    [100,df[\"P_100\"].values[0]],\n",
    "    [200,df[\"P_200\"].values[0]],\n",
    "    [500,df[\"P_500\"].values[0]],\n",
    "    [1000,df[\"P_1000\"].values[0]]],columns=[\"@K\",\"precision\"])\n",
    "df_rec = pd.DataFrame([\n",
    "    [5,df[\"R_5\"].values[0]],\n",
    "    [10,df[\"R_10\"].values[0]],\n",
    "    [15,df[\"R_15\"].values[0]],\n",
    "    [20,df[\"R_20\"].values[0]],\n",
    "    [30,df[\"R_30\"].values[0]],\n",
    "    [100,df[\"R_100\"].values[0]],\n",
    "    [200,df[\"R_200\"].values[0]],\n",
    "    [500,df[\"R_500\"].values[0]],\n",
    "    [1000,df[\"R_1000\"].values[0]]],columns=[\"@K\",\"recall\"])\n",
    "df_f1 = pd.DataFrame([    \n",
    "    [5,df[\"F1_5\"].values[0]],\n",
    "    [10,df[\"F1_10\"].values[0]],\n",
    "    [15,df[\"F1_15\"].values[0]],\n",
    "    [20,df[\"F1_20\"].values[0]],\n",
    "    [30,df[\"F1_30\"].values[0]],\n",
    "    [100,df[\"F1_100\"].values[0]],\n",
    "    [200,df[\"F1_200\"].values[0]],\n",
    "    [500,df[\"F1_500\"].values[0]],\n",
    "    [1000,df[\"F1_1000\"].values[0]]],columns=[\"@K\",\"f1\"])\n",
    "df_fn = pd.DataFrame([\n",
    "    [5,df[\"TFN_5\"].values[0]],\n",
    "    [10,df[\"TFN_5\"].values[0]],\n",
    "    [15,df[\"TFN_15\"].values[0]],\n",
    "    [20,df[\"TFN_20\"].values[0]],\n",
    "    [30,df[\"TFN_30\"].values[0]],\n",
    "    [100,df[\"TFN_100\"].values[0]],\n",
    "    [200,df[\"TFN_200\"].values[0]],\n",
    "    [500,df[\"TFN_500\"].values[0]],\n",
    "    [1000,df[\"TFN_1000\"].values[0]]],columns=[\"@K\",\"false negative rate\"])"
   ]
  },
  {
   "cell_type": "code",
   "execution_count": 17,
   "id": "5741667b-9340-4bea-8e5c-ebf2c3ae5f0c",
   "metadata": {},
   "outputs": [
    {
     "data": {
      "text/html": [
       "<div>\n",
       "<style scoped>\n",
       "    .dataframe tbody tr th:only-of-type {\n",
       "        vertical-align: middle;\n",
       "    }\n",
       "\n",
       "    .dataframe tbody tr th {\n",
       "        vertical-align: top;\n",
       "    }\n",
       "\n",
       "    .dataframe thead th {\n",
       "        text-align: right;\n",
       "    }\n",
       "</style>\n",
       "<table border=\"1\" class=\"dataframe\">\n",
       "  <thead>\n",
       "    <tr style=\"text-align: right;\">\n",
       "      <th></th>\n",
       "      <th>@K</th>\n",
       "      <th>precision</th>\n",
       "    </tr>\n",
       "  </thead>\n",
       "  <tbody>\n",
       "    <tr>\n",
       "      <th>0</th>\n",
       "      <td>5</td>\n",
       "      <td>0.200000</td>\n",
       "    </tr>\n",
       "    <tr>\n",
       "      <th>1</th>\n",
       "      <td>10</td>\n",
       "      <td>0.100000</td>\n",
       "    </tr>\n",
       "    <tr>\n",
       "      <th>2</th>\n",
       "      <td>15</td>\n",
       "      <td>0.066667</td>\n",
       "    </tr>\n",
       "    <tr>\n",
       "      <th>3</th>\n",
       "      <td>20</td>\n",
       "      <td>0.050000</td>\n",
       "    </tr>\n",
       "    <tr>\n",
       "      <th>4</th>\n",
       "      <td>30</td>\n",
       "      <td>0.033333</td>\n",
       "    </tr>\n",
       "    <tr>\n",
       "      <th>5</th>\n",
       "      <td>100</td>\n",
       "      <td>0.010000</td>\n",
       "    </tr>\n",
       "    <tr>\n",
       "      <th>6</th>\n",
       "      <td>200</td>\n",
       "      <td>0.005000</td>\n",
       "    </tr>\n",
       "    <tr>\n",
       "      <th>7</th>\n",
       "      <td>500</td>\n",
       "      <td>0.002000</td>\n",
       "    </tr>\n",
       "    <tr>\n",
       "      <th>8</th>\n",
       "      <td>1000</td>\n",
       "      <td>0.001000</td>\n",
       "    </tr>\n",
       "  </tbody>\n",
       "</table>\n",
       "</div>"
      ],
      "text/plain": [
       "     @K  precision\n",
       "0     5   0.200000\n",
       "1    10   0.100000\n",
       "2    15   0.066667\n",
       "3    20   0.050000\n",
       "4    30   0.033333\n",
       "5   100   0.010000\n",
       "6   200   0.005000\n",
       "7   500   0.002000\n",
       "8  1000   0.001000"
      ]
     },
     "execution_count": 17,
     "metadata": {},
     "output_type": "execute_result"
    }
   ],
   "source": [
    "df_prec"
   ]
  },
  {
   "cell_type": "code",
   "execution_count": 18,
   "id": "37f945ac-a0d1-4e43-b8e5-c27c7e19a58e",
   "metadata": {},
   "outputs": [
    {
     "data": {
      "text/html": [
       "<div>\n",
       "<style scoped>\n",
       "    .dataframe tbody tr th:only-of-type {\n",
       "        vertical-align: middle;\n",
       "    }\n",
       "\n",
       "    .dataframe tbody tr th {\n",
       "        vertical-align: top;\n",
       "    }\n",
       "\n",
       "    .dataframe thead th {\n",
       "        text-align: right;\n",
       "    }\n",
       "</style>\n",
       "<table border=\"1\" class=\"dataframe\">\n",
       "  <thead>\n",
       "    <tr style=\"text-align: right;\">\n",
       "      <th></th>\n",
       "      <th>@K</th>\n",
       "      <th>recall</th>\n",
       "    </tr>\n",
       "  </thead>\n",
       "  <tbody>\n",
       "    <tr>\n",
       "      <th>0</th>\n",
       "      <td>5</td>\n",
       "      <td>1.0</td>\n",
       "    </tr>\n",
       "    <tr>\n",
       "      <th>1</th>\n",
       "      <td>10</td>\n",
       "      <td>1.0</td>\n",
       "    </tr>\n",
       "    <tr>\n",
       "      <th>2</th>\n",
       "      <td>15</td>\n",
       "      <td>1.0</td>\n",
       "    </tr>\n",
       "    <tr>\n",
       "      <th>3</th>\n",
       "      <td>20</td>\n",
       "      <td>1.0</td>\n",
       "    </tr>\n",
       "    <tr>\n",
       "      <th>4</th>\n",
       "      <td>30</td>\n",
       "      <td>1.0</td>\n",
       "    </tr>\n",
       "    <tr>\n",
       "      <th>5</th>\n",
       "      <td>100</td>\n",
       "      <td>1.0</td>\n",
       "    </tr>\n",
       "    <tr>\n",
       "      <th>6</th>\n",
       "      <td>200</td>\n",
       "      <td>1.0</td>\n",
       "    </tr>\n",
       "    <tr>\n",
       "      <th>7</th>\n",
       "      <td>500</td>\n",
       "      <td>1.0</td>\n",
       "    </tr>\n",
       "    <tr>\n",
       "      <th>8</th>\n",
       "      <td>1000</td>\n",
       "      <td>1.0</td>\n",
       "    </tr>\n",
       "  </tbody>\n",
       "</table>\n",
       "</div>"
      ],
      "text/plain": [
       "     @K  recall\n",
       "0     5     1.0\n",
       "1    10     1.0\n",
       "2    15     1.0\n",
       "3    20     1.0\n",
       "4    30     1.0\n",
       "5   100     1.0\n",
       "6   200     1.0\n",
       "7   500     1.0\n",
       "8  1000     1.0"
      ]
     },
     "execution_count": 18,
     "metadata": {},
     "output_type": "execute_result"
    }
   ],
   "source": [
    "df_rec"
   ]
  },
  {
   "cell_type": "code",
   "execution_count": 19,
   "id": "f1a2c046-5f59-4ecc-abbf-a8dac1d24bff",
   "metadata": {},
   "outputs": [
    {
     "data": {
      "text/html": [
       "<div>\n",
       "<style scoped>\n",
       "    .dataframe tbody tr th:only-of-type {\n",
       "        vertical-align: middle;\n",
       "    }\n",
       "\n",
       "    .dataframe tbody tr th {\n",
       "        vertical-align: top;\n",
       "    }\n",
       "\n",
       "    .dataframe thead th {\n",
       "        text-align: right;\n",
       "    }\n",
       "</style>\n",
       "<table border=\"1\" class=\"dataframe\">\n",
       "  <thead>\n",
       "    <tr style=\"text-align: right;\">\n",
       "      <th></th>\n",
       "      <th>@K</th>\n",
       "      <th>f1</th>\n",
       "    </tr>\n",
       "  </thead>\n",
       "  <tbody>\n",
       "    <tr>\n",
       "      <th>0</th>\n",
       "      <td>5</td>\n",
       "      <td>0.333333</td>\n",
       "    </tr>\n",
       "    <tr>\n",
       "      <th>1</th>\n",
       "      <td>10</td>\n",
       "      <td>0.181818</td>\n",
       "    </tr>\n",
       "    <tr>\n",
       "      <th>2</th>\n",
       "      <td>15</td>\n",
       "      <td>0.125000</td>\n",
       "    </tr>\n",
       "    <tr>\n",
       "      <th>3</th>\n",
       "      <td>20</td>\n",
       "      <td>0.095238</td>\n",
       "    </tr>\n",
       "    <tr>\n",
       "      <th>4</th>\n",
       "      <td>30</td>\n",
       "      <td>0.064516</td>\n",
       "    </tr>\n",
       "    <tr>\n",
       "      <th>5</th>\n",
       "      <td>100</td>\n",
       "      <td>0.019802</td>\n",
       "    </tr>\n",
       "    <tr>\n",
       "      <th>6</th>\n",
       "      <td>200</td>\n",
       "      <td>0.009950</td>\n",
       "    </tr>\n",
       "    <tr>\n",
       "      <th>7</th>\n",
       "      <td>500</td>\n",
       "      <td>0.003992</td>\n",
       "    </tr>\n",
       "    <tr>\n",
       "      <th>8</th>\n",
       "      <td>1000</td>\n",
       "      <td>0.001998</td>\n",
       "    </tr>\n",
       "  </tbody>\n",
       "</table>\n",
       "</div>"
      ],
      "text/plain": [
       "     @K        f1\n",
       "0     5  0.333333\n",
       "1    10  0.181818\n",
       "2    15  0.125000\n",
       "3    20  0.095238\n",
       "4    30  0.064516\n",
       "5   100  0.019802\n",
       "6   200  0.009950\n",
       "7   500  0.003992\n",
       "8  1000  0.001998"
      ]
     },
     "execution_count": 19,
     "metadata": {},
     "output_type": "execute_result"
    }
   ],
   "source": [
    "df_f1"
   ]
  },
  {
   "cell_type": "code",
   "execution_count": 20,
   "id": "76588ccb-f4b1-45e8-b8e9-5984b72fd8d1",
   "metadata": {},
   "outputs": [
    {
     "data": {
      "text/html": [
       "<div>\n",
       "<style scoped>\n",
       "    .dataframe tbody tr th:only-of-type {\n",
       "        vertical-align: middle;\n",
       "    }\n",
       "\n",
       "    .dataframe tbody tr th {\n",
       "        vertical-align: top;\n",
       "    }\n",
       "\n",
       "    .dataframe thead th {\n",
       "        text-align: right;\n",
       "    }\n",
       "</style>\n",
       "<table border=\"1\" class=\"dataframe\">\n",
       "  <thead>\n",
       "    <tr style=\"text-align: right;\">\n",
       "      <th></th>\n",
       "      <th>@K</th>\n",
       "      <th>false negative rate</th>\n",
       "    </tr>\n",
       "  </thead>\n",
       "  <tbody>\n",
       "    <tr>\n",
       "      <th>0</th>\n",
       "      <td>5</td>\n",
       "      <td>0.208333</td>\n",
       "    </tr>\n",
       "    <tr>\n",
       "      <th>1</th>\n",
       "      <td>10</td>\n",
       "      <td>0.208333</td>\n",
       "    </tr>\n",
       "    <tr>\n",
       "      <th>2</th>\n",
       "      <td>15</td>\n",
       "      <td>0.066964</td>\n",
       "    </tr>\n",
       "    <tr>\n",
       "      <th>3</th>\n",
       "      <td>20</td>\n",
       "      <td>0.050125</td>\n",
       "    </tr>\n",
       "    <tr>\n",
       "      <th>4</th>\n",
       "      <td>30</td>\n",
       "      <td>0.033370</td>\n",
       "    </tr>\n",
       "    <tr>\n",
       "      <th>5</th>\n",
       "      <td>100</td>\n",
       "      <td>0.010001</td>\n",
       "    </tr>\n",
       "    <tr>\n",
       "      <th>6</th>\n",
       "      <td>200</td>\n",
       "      <td>0.005000</td>\n",
       "    </tr>\n",
       "    <tr>\n",
       "      <th>7</th>\n",
       "      <td>500</td>\n",
       "      <td>0.002000</td>\n",
       "    </tr>\n",
       "    <tr>\n",
       "      <th>8</th>\n",
       "      <td>1000</td>\n",
       "      <td>0.001000</td>\n",
       "    </tr>\n",
       "  </tbody>\n",
       "</table>\n",
       "</div>"
      ],
      "text/plain": [
       "     @K  false negative rate\n",
       "0     5             0.208333\n",
       "1    10             0.208333\n",
       "2    15             0.066964\n",
       "3    20             0.050125\n",
       "4    30             0.033370\n",
       "5   100             0.010001\n",
       "6   200             0.005000\n",
       "7   500             0.002000\n",
       "8  1000             0.001000"
      ]
     },
     "execution_count": 20,
     "metadata": {},
     "output_type": "execute_result"
    }
   ],
   "source": [
    "df_fn"
   ]
  },
  {
   "cell_type": "code",
   "execution_count": null,
   "id": "a7223377-a881-4d79-94d3-ad44324cf922",
   "metadata": {},
   "outputs": [],
   "source": []
  }
 ],
 "metadata": {
  "kernelspec": {
   "display_name": "Python 3",
   "language": "python",
   "name": "python3"
  },
  "language_info": {
   "codemirror_mode": {
    "name": "ipython",
    "version": 3
   },
   "file_extension": ".py",
   "mimetype": "text/x-python",
   "name": "python",
   "nbconvert_exporter": "python",
   "pygments_lexer": "ipython3",
   "version": "3.8.5"
  }
 },
 "nbformat": 4,
 "nbformat_minor": 5
}
